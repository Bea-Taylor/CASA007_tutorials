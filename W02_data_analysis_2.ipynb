{
 "cells": [
  {
   "cell_type": "markdown",
   "id": "b1665cc2",
   "metadata": {},
   "source": [
    "# CASA0007 \n",
    "## Practical 2: Exploratory Data Analysis 2\n",
    "\n",
    "<div style=\"float:right\"><img width=\"100\" src=\"https://github.com/jreades/i2p/raw/master/img/casa_logo.jpg\" /></div>"
   ]
  },
  {
   "cell_type": "markdown",
   "id": "497d3252",
   "metadata": {},
   "source": [
    "## Welcome!\n",
    "\n",
    "In this practical, we will apply the exploratory data analysis techinques to explore the distribution of datasets. \n",
    "\n",
    "- Normal distribution \n",
    "- Exponentials \n",
    "- Logarithms "
   ]
  },
  {
   "cell_type": "code",
   "execution_count": 1,
   "id": "6880c680",
   "metadata": {},
   "outputs": [],
   "source": [
    "# import relevant packages\n",
    "\n",
    "import numpy as np\n",
    "import scipy.stats as sps\n",
    "import pandas as pd\n",
    "import matplotlib.pyplot as plt"
   ]
  },
  {
   "cell_type": "markdown",
   "id": "fad20e06",
   "metadata": {},
   "source": [
    "## Background \n",
    "\n",
    "We're going to continue exploring the schools dataset here. "
   ]
  },
  {
   "cell_type": "code",
   "execution_count": null,
   "id": "3fb5ebcc",
   "metadata": {},
   "outputs": [],
   "source": [
    "# load the data \n",
    "df ="
   ]
  },
  {
   "cell_type": "markdown",
   "id": "c0b535dd",
   "metadata": {},
   "source": [
    "## Dataset 1 \n",
    "### Summary statistics \n",
    "\n",
    "We can print the summary statistics of the dataframe using in-built functions from ```pandas```. "
   ]
  },
  {
   "cell_type": "code",
   "execution_count": null,
   "id": "bc693be9",
   "metadata": {},
   "outputs": [],
   "source": []
  },
  {
   "cell_type": "markdown",
   "id": "fc9f5eed",
   "metadata": {},
   "source": [
    "### Data distribution\n",
    "\n",
    "Let's try and figure out what the distribution of the data is - we start by plotting a histogram. "
   ]
  },
  {
   "cell_type": "code",
   "execution_count": null,
   "id": "df98ca09",
   "metadata": {},
   "outputs": [],
   "source": [
    "# Plotting the histogram "
   ]
  },
  {
   "cell_type": "markdown",
   "id": "c6fcccc7",
   "metadata": {},
   "source": [
    "It could be helpful to try and change the number of bins - try changing the parameter ```n_bins``` in the below code.  "
   ]
  },
  {
   "cell_type": "code",
   "execution_count": null,
   "id": "088037b8",
   "metadata": {},
   "outputs": [],
   "source": [
    "# Changing the number of bins in the histogram "
   ]
  },
  {
   "cell_type": "code",
   "execution_count": null,
   "id": "ffe9593c",
   "metadata": {},
   "outputs": [],
   "source": [
    "# Overlay the normal distribution"
   ]
  },
  {
   "cell_type": "markdown",
   "id": "dad716c5",
   "metadata": {},
   "source": [
    "## Dataset 2\n",
    "\n",
    "### Summary statistics "
   ]
  },
  {
   "cell_type": "code",
   "execution_count": null,
   "id": "b6d8e8fe",
   "metadata": {},
   "outputs": [],
   "source": []
  },
  {
   "cell_type": "markdown",
   "id": "d4211174",
   "metadata": {},
   "source": [
    "### Data distribution "
   ]
  },
  {
   "cell_type": "code",
   "execution_count": null,
   "id": "07ad1b19",
   "metadata": {},
   "outputs": [],
   "source": [
    "# plot the histogram "
   ]
  },
  {
   "cell_type": "code",
   "execution_count": null,
   "id": "b14eee7e",
   "metadata": {},
   "outputs": [],
   "source": [
    "# overlay the exponential distribution"
   ]
  },
  {
   "cell_type": "markdown",
   "id": "1edc36b0",
   "metadata": {},
   "source": [
    "### Transforming the data - taking the logarithm "
   ]
  },
  {
   "cell_type": "code",
   "execution_count": null,
   "id": "a86ede37",
   "metadata": {},
   "outputs": [],
   "source": []
  },
  {
   "cell_type": "markdown",
   "id": "1fe9ddc2",
   "metadata": {},
   "source": [
    "## Conclusions\n",
    "\n",
    "We have looked at two datasets from the schools data, and explored their distributions. \n",
    "\n",
    "Now, can you try applying these techniques to other datasets and describe your findings in the language of data analysis? "
   ]
  },
  {
   "cell_type": "markdown",
   "id": "6260a713",
   "metadata": {},
   "source": [
    "## Extension "
   ]
  },
  {
   "cell_type": "markdown",
   "id": "2a79dd26",
   "metadata": {},
   "source": [
    "## Credits\n",
    "### Contributors:\n",
    "The following individuals have contributed to these teaching materials: [Bea Taylor](https://github.com/Bea-Taylor)\n",
    "\n",
    "### License\n",
    "These teaching materials are licensed under a mix of The MIT License and the Creative Commons Attribution-NonCommercial-ShareAlike 4.0 license.\n",
    "\n",
    "### Acknowledgements\n",
    "NA\n",
    "\n",
    "### Dependencies\n",
    "This notebook depends on the following libraries: pandas, matplotlib, numpy, scipy"
   ]
  }
 ],
 "metadata": {
  "kernelspec": {
   "display_name": "AI4CI_base_env",
   "language": "python",
   "name": "python3"
  },
  "language_info": {
   "codemirror_mode": {
    "name": "ipython",
    "version": 3
   },
   "file_extension": ".py",
   "mimetype": "text/x-python",
   "name": "python",
   "nbconvert_exporter": "python",
   "pygments_lexer": "ipython3",
   "version": "3.9.20"
  }
 },
 "nbformat": 4,
 "nbformat_minor": 5
}
