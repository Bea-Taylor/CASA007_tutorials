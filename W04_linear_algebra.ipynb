{
 "cells": [
  {
   "cell_type": "markdown",
   "id": "a8b2b20e",
   "metadata": {},
   "source": [
    "# CASA0007 \n",
    "## Practical 4: Linear Algebra</h1>\n",
    "<div style=\"float:right\"><img width=\"100\" src=\"https://github.com/jreades/i2p/raw/master/img/casa_logo.jpg\" /></div>"
   ]
  },
  {
   "cell_type": "markdown",
   "id": "54286b68",
   "metadata": {},
   "source": [
    "## Welcome!\n",
    "\n",
    "In this practical, we will apply some techniques from linear algebra. \n",
    "\n",
    "- Systems of equations \n",
    "- Matrix operations "
   ]
  },
  {
   "cell_type": "code",
   "execution_count": null,
   "id": "4e430a31",
   "metadata": {},
   "outputs": [],
   "source": [
    "# import relevant packages\n",
    "\n",
    "import numpy as np\n",
    "import scipy.stats as sps\n",
    "import pandas as pd\n",
    "import matplotlib.pyplot as plt"
   ]
  },
  {
   "cell_type": "markdown",
   "id": "3aa18087",
   "metadata": {},
   "source": [
    "## Background "
   ]
  },
  {
   "cell_type": "code",
   "execution_count": null,
   "id": "e3427b53",
   "metadata": {},
   "outputs": [],
   "source": []
  },
  {
   "cell_type": "markdown",
   "id": "8eeee8c9",
   "metadata": {},
   "source": [
    "## Credits\n",
    "### Contributors:\n",
    "The following individuals have contributed to these teaching materials: [Bea Taylor](https://github.com/Bea-Taylor)\n",
    "\n",
    "### License\n",
    "These teaching materials are licensed under a mix of The MIT License and the Creative Commons Attribution-NonCommercial-ShareAlike 4.0 license.\n",
    "\n",
    "### Acknowledgements\n",
    "NA\n",
    "\n",
    "### Dependencies\n",
    "This notebook depends on the following libraries: pandas, matplotlib, numpy, scipy"
   ]
  }
 ],
 "metadata": {
  "language_info": {
   "name": "python"
  }
 },
 "nbformat": 4,
 "nbformat_minor": 5
}
